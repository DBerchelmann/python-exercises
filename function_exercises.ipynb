{
 "cells": [
  {
   "cell_type": "code",
   "execution_count": 9,
   "metadata": {},
   "outputs": [
    {
     "data": {
      "text/plain": [
       "True"
      ]
     },
     "execution_count": 9,
     "metadata": {},
     "output_type": "execute_result"
    }
   ],
   "source": [
    "# 1. Define a function named is_two. It should accept one input and return True if the passed input is either the number or the string 2, False otherwise.\n",
    "\n",
    "def is_two(n):\n",
    "    if n == 2 or n == 'two':\n",
    "        return True\n",
    "    else:\n",
    "        False\n",
    "\n",
    "is_two(2)"
   ]
  },
  {
   "cell_type": "code",
   "execution_count": 31,
   "metadata": {},
   "outputs": [
    {
     "data": {
      "text/plain": [
       "False"
      ]
     },
     "execution_count": 31,
     "metadata": {},
     "output_type": "execute_result"
    }
   ],
   "source": [
    "# 2 Define a function named is_vowel. It should return True if the passed string is a vowel, False otherwise.\n",
    "\n",
    "\n",
    "def is_vowel(letter):\n",
    "    lower_vowels = ['a', 'e', 'i', 'o', 'u']\n",
    "    upper_vowels = ['A', 'E', 'I', 'O', 'U']\n",
    "    if letter in lower_vowels or letter in upper_vowels:\n",
    "        return True\n",
    "    else:\n",
    "        return False\n",
    "\n",
    "is_vowel('b')\n",
    "        \n",
    "\n",
    "    # could also do -- return letter.lower() in 'aeiou' --"
   ]
  },
  {
   "cell_type": "code",
   "execution_count": 134,
   "metadata": {},
   "outputs": [
    {
     "data": {
      "text/plain": [
       "False"
      ]
     },
     "execution_count": 134,
     "metadata": {},
     "output_type": "execute_result"
    }
   ],
   "source": [
    "# 3 Define a function named is_consonant. It should return True if the passed string is a consonant, False otherwise. \n",
    "# Use your is_vowel function to accomplish this.\n",
    "\n",
    "def is_consonant(letter):\n",
    "    letter = letter.lower()\n",
    "    lower_vowels = ['a', 'e', 'i', 'o', 'u']\n",
    "    if letter not in lower_vowels and letter.isalpha():\n",
    "        return True\n",
    "    else:\n",
    "        return False\n",
    "    \n",
    "is_consonant('4')"
   ]
  },
  {
   "cell_type": "code",
   "execution_count": 135,
   "metadata": {},
   "outputs": [
    {
     "data": {
      "text/plain": [
       "'you returned a word that begins with a vowel and not a consonant'"
      ]
     },
     "execution_count": 135,
     "metadata": {},
     "output_type": "execute_result"
    }
   ],
   "source": [
    "# 4 Define a function that accepts a string that is a word. \n",
    "# The function should capitalize the first letter of the word if the word starts with a consonant.\n",
    "\n",
    "\n",
    "def is_capitalized(word):\n",
    "    vowels = ['a', 'e', 'i', 'o', 'u','A', 'E', 'I', 'O', 'U' ]\n",
    "    if word[0] not in vowels:\n",
    "        return (word.capitalize())\n",
    "    else:\n",
    "        return (f\"you returned a word that begins with a vowel and not a consonant\")\n",
    "    \n",
    "is_capitalized('apple')\n",
    "\n",
    "# first_letter = word[0]\n",
    "# if is_consonat(first_letter):\n",
    "    # return word.capitalize()\n",
    "    # else:\n",
    "        # return word\n"
   ]
  },
  {
   "cell_type": "code",
   "execution_count": 143,
   "metadata": {},
   "outputs": [
    {
     "data": {
      "text/plain": [
       "20.27"
      ]
     },
     "execution_count": 143,
     "metadata": {},
     "output_type": "execute_result"
    }
   ],
   "source": [
    "# 5 Define a function named calculate_tip. \n",
    "# It should accept a tip percentage (a number between 0 and 1) and the bill total, and return the amount to tip.\n",
    "\n",
    "def calculate_tip(meal_price, tip_percent):\n",
    "    if tip_percent > 1:\n",
    "        tip_percent /= 100\n",
    "    tip = meal_price * tip_percent\n",
    "    return round(tip, 2)\n",
    "\n",
    "calculate_tip(40.53, 50)\n",
    "    \n",
    "# total_bill = meal_price + tip ( if you wanted to add the total bill (meal + tip))\n"
   ]
  },
  {
   "cell_type": "code",
   "execution_count": 146,
   "metadata": {},
   "outputs": [
    {
     "data": {
      "text/plain": [
       "32.0"
      ]
     },
     "execution_count": 146,
     "metadata": {},
     "output_type": "execute_result"
    }
   ],
   "source": [
    "# 6 Define a function named apply_discount. \n",
    "# It should accept a original price, and a discount percentage, and return the price after the discount is applied.\n",
    "\n",
    "def apply_discount(price, discount_percent):\n",
    "    if discount_percent > 1:\n",
    "        discount_percent /= 100\n",
    "    discount = price * discount_percent\n",
    "    discount_price = price - discount\n",
    "    return discount_price\n",
    "\n",
    "apply_discount(40, .2)"
   ]
  },
  {
   "cell_type": "code",
   "execution_count": 147,
   "metadata": {},
   "outputs": [
    {
     "data": {
      "text/plain": [
       "100000000.0"
      ]
     },
     "execution_count": 147,
     "metadata": {},
     "output_type": "execute_result"
    }
   ],
   "source": [
    "# 7 Define a function named handle_commas. \n",
    "# It should accept a string that is a number that contains commas in it as input, and return a number as output.\n",
    "\n",
    "def handle_commas(string):\n",
    "    return float(string.replace(',', ''))\n",
    "\n",
    "handle_commas('100,000,000')"
   ]
  },
  {
   "cell_type": "code",
   "execution_count": 66,
   "metadata": {},
   "outputs": [
    {
     "data": {
      "text/plain": [
       "'C'"
      ]
     },
     "execution_count": 66,
     "metadata": {},
     "output_type": "execute_result"
    }
   ],
   "source": [
    "# 8 Define a function named get_letter_grade. \n",
    "# It should accept a number and return the letter grade associated with that number (A-F).\n",
    "\n",
    "def get_letter_grade(value):\n",
    "    if value >= 88:\n",
    "        return(\"A\")\n",
    "    elif value >= 80:\n",
    "        return(\"B\")\n",
    "    elif value >= 67:\n",
    "        return(\"C\")\n",
    "    elif value >= 60:\n",
    "        return(\"D\")\n",
    "    else:\n",
    "        return(\"F\")\n",
    "\n",
    "get_letter_grade(75)"
   ]
  },
  {
   "cell_type": "code",
   "execution_count": 129,
   "metadata": {},
   "outputs": [
    {
     "data": {
      "text/plain": [
       "'tng'"
      ]
     },
     "execution_count": 129,
     "metadata": {},
     "output_type": "execute_result"
    }
   ],
   "source": [
    "# 9 Define a function named remove_vowels that accepts a string and returns a string with all the vowels removed.\n",
    "\n",
    "def remove_vowels(string):\n",
    "    string = string.lower()\n",
    "    vowels = ['a', 'e', 'i', 'o', 'u']\n",
    "    for letter in string:\n",
    "        if letter in vowels:\n",
    "            string = string.replace(letter, '')\n",
    "    return string\n",
    "\n",
    "remove_vowels('EATING')"
   ]
  },
  {
   "cell_type": "code",
   "execution_count": 56,
   "metadata": {},
   "outputs": [
    {
     "data": {
      "text/plain": [
       "'jennifer_lopez'"
      ]
     },
     "execution_count": 56,
     "metadata": {},
     "output_type": "execute_result"
    }
   ],
   "source": [
    "# 10 Define a function named normalize_name. It should accept a string and return a valid python identifier, that is:\n",
    "# anything that is not a valid python identifier should be removed\n",
    "# leading and trailing whitespace should be removed\n",
    "# everything should be lowercase\n",
    "# spaces should be replaced with underscores\n",
    "\n",
    "\n",
    "# A string is considered a valid identifier if it only contains alphanumeric letters (a-z) and (0-9), or underscores (_).\n",
    "# A valid identifier cannot start with a number, or contain any spaces.\n",
    "\n",
    "def normalize_name(string):\n",
    "    \n",
    "    string = string.strip() # first we strip the empty space from either side of the string     \n",
    "    string = string.lower() # next, we need to turn the string into all lower case\n",
    "    string = string.replace(' ', '_') # after space has been stripped on either side of the string, we replace any empty space within the string with underscores\n",
    "    output = \"\" # now we create an empty string that will be filled eventually by the conditional statement below\n",
    "    \n",
    "    for letter in string:        # analyze each letter in the string\n",
    "        if letter.isidentifier(): # this condtional analyzes each character to see if it is a valid identifier(alpha-numerica or underscore)\n",
    "            output += letter #if the charater is a valid identifer, then this statement is telling the computer to add those letters to the currently empty output string\n",
    "   \n",
    "    return output # the output string is returned with all characters that are valid indentifiers\n",
    "   \n",
    "      \n",
    "\n",
    "    \n",
    "\n",
    "normalize_name(\" %JeNni&**fer@ Lo*$&$pez \")"
   ]
  },
  {
   "cell_type": "code",
   "execution_count": null,
   "metadata": {
    "scrolled": true
   },
   "outputs": [],
   "source": []
  },
  {
   "cell_type": "code",
   "execution_count": 43,
   "metadata": {},
   "outputs": [
    {
     "data": {
      "text/plain": [
       "[1, 3, 6, 10, 15, 21, 28]"
      ]
     },
     "execution_count": 43,
     "metadata": {},
     "output_type": "execute_result"
    }
   ],
   "source": [
    "# 11 Write a function named cumulative_sum that accepts a list of numbers and returns a list that is the cumulative sum of the numbers in the list.\n",
    "# cumulative_sum([1, 1, 1]) returns [1, 2, 3]\n",
    "# cumulative_sum([1, 2, 3, 4]) returns [1, 3, 6, 10]\n",
    "\n",
    "def cumulative_sum(a):\n",
    "    a = [sum(a[0:x:1]) for x in range(len(a)+1)][1:] # i'm taking the sum of the list of numbers, and then putting the sum back in the list in cumulative order\n",
    "    return a\n",
    "\n",
    "cumulative_sum([1, 2, 3, 4, 5, 6, 7])\n",
    "        "
   ]
  },
  {
   "cell_type": "code",
   "execution_count": 124,
   "metadata": {},
   "outputs": [
    {
     "data": {
      "text/plain": [
       "'2345'"
      ]
     },
     "execution_count": 124,
     "metadata": {},
     "output_type": "execute_result"
    }
   ],
   "source": [
    "# Bonus\n",
    "\n",
    "# Create a function named twelveto24. \n",
    "# It should accept a string in the format 10:45am or 4:30pm and return a string that is the representation of the time in a 24-hour format. \n",
    "# Bonus write a function that does the opposite.\n",
    "\n",
    "def twelveto24(string):\n",
    "    zero = '0'\n",
    "    if string[-2:] == 'am':\n",
    "        string = zero + string\n",
    "        string = string.replace(':', '')\n",
    "        return string.replace('am', '')\n",
    "    \n",
    "    elif string[-2:] == 'pm' and string[0:2] != '12':\n",
    "        string = string.strip('pm')\n",
    "        string = string.replace(':', '')\n",
    "        string = float(string)\n",
    "        string = string + 1200\n",
    "        string = int(string)\n",
    "        string = str(string)\n",
    "        return string.replace('pm', '')\n",
    "   \n",
    "    \n",
    "\n",
    "twelveto24('11:45pm')\n"
   ]
  },
  {
   "cell_type": "code",
   "execution_count": null,
   "metadata": {},
   "outputs": [],
   "source": []
  },
  {
   "cell_type": "code",
   "execution_count": null,
   "metadata": {},
   "outputs": [],
   "source": []
  }
 ],
 "metadata": {
  "kernelspec": {
   "display_name": "Python 3",
   "language": "python",
   "name": "python3"
  },
  "language_info": {
   "codemirror_mode": {
    "name": "ipython",
    "version": 3
   },
   "file_extension": ".py",
   "mimetype": "text/x-python",
   "name": "python",
   "nbconvert_exporter": "python",
   "pygments_lexer": "ipython3",
   "version": "3.8.5"
  }
 },
 "nbformat": 4,
 "nbformat_minor": 4
}
